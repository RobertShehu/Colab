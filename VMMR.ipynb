{
  "nbformat": 4,
  "nbformat_minor": 0,
  "metadata": {
    "colab": {
      "name": "car_identifier.ipynb",
      "provenance": [],
      "collapsed_sections": [],
      "mount_file_id": "1S15xDVE2n8C0etovbkq0ynMILrbImWha",
      "authorship_tag": "ABX9TyNiXVHCg+Fx3rTd+n/SPQlA",
      "include_colab_link": true
    },
    "kernelspec": {
      "name": "python3",
      "display_name": "Python 3"
    },
    "language_info": {
      "name": "python"
    },
    "accelerator": "GPU"
  },
  "cells": [
    {
      "cell_type": "markdown",
      "metadata": {
        "id": "view-in-github",
        "colab_type": "text"
      },
      "source": [
        "<a href=\"https://colab.research.google.com/github/RobertShehu/Colab/blob/main/VMMR.ipynb\" target=\"_parent\"><img src=\"https://colab.research.google.com/assets/colab-badge.svg\" alt=\"Open In Colab\"/></a>"
      ]
    },
    {
      "cell_type": "code",
      "source": [
        "from google.colab import drive\n",
        "drive.mount('/content/drive')"
      ],
      "metadata": {
        "id": "KhLRZz4X3n6S",
        "colab": {
          "base_uri": "https://localhost:8080/"
        },
        "outputId": "18a9e4c6-28e3-4c98-a91a-047493b1eca0"
      },
      "execution_count": 1,
      "outputs": [
        {
          "output_type": "stream",
          "name": "stdout",
          "text": [
            "Drive already mounted at /content/drive; to attempt to forcibly remount, call drive.mount(\"/content/drive\", force_remount=True).\n"
          ]
        }
      ]
    },
    {
      "cell_type": "code",
      "source": [
        "import tensorflow as tf\n",
        "from tensorflow import keras\n",
        "import numpy as np\n",
        "import matplotlib.pyplot as plt\n",
        "import os\n",
        "from keras.preprocessing import image\n",
        "from keras.preprocessing.image import ImageDataGenerator"
      ],
      "metadata": {
        "id": "WwDtisZGro7T"
      },
      "execution_count": 2,
      "outputs": []
    },
    {
      "cell_type": "code",
      "source": [
        "IMG_SIZE = 224\n",
        "BATCH_SIZE = 32\n",
        "SHUFFLE_BUFFER_SIZE = 1000\n",
        "IMG_SHAPE = (IMG_SIZE, IMG_SIZE, 3)\n",
        "path = '/content/drive/MyDrive/'\n",
        "class_names = os.listdir(path+'Progetto')\n",
        "depth = len(class_names)"
      ],
      "metadata": {
        "id": "YLNAA0pRrp_I"
      },
      "execution_count": 3,
      "outputs": []
    },
    {
      "cell_type": "code",
      "source": [
        "ds_train = tf.keras.preprocessing.image_dataset_from_directory(\n",
        "    path+'Progetto',\n",
        "    labels='inferred',\n",
        "    label_mode=\"int\",\n",
        "    color_mode=\"rgb\",\n",
        "    batch_size=BATCH_SIZE,\n",
        "    image_size=(IMG_SIZE, IMG_SIZE),\n",
        "    shuffle=True,\n",
        "    seed=123,\n",
        "    validation_split=0.1,\n",
        "    subset='training'\n",
        ")\n",
        "\n",
        "ds_validation = tf.keras.preprocessing.image_dataset_from_directory(\n",
        "    path+'Progetto',\n",
        "    labels='inferred',\n",
        "    label_mode=\"int\",\n",
        "    color_mode=\"rgb\",\n",
        "    batch_size=BATCH_SIZE,\n",
        "    image_size=(IMG_SIZE, IMG_SIZE),\n",
        "    shuffle=True,\n",
        "    seed=123,\n",
        "    validation_split=0.1,\n",
        "    subset='validation'\n",
        ")"
      ],
      "metadata": {
        "id": "GCriSmz6ru_T",
        "colab": {
          "base_uri": "https://localhost:8080/"
        },
        "outputId": "c454d735-fa72-4261-944b-8d0125dcfdc1"
      },
      "execution_count": 4,
      "outputs": [
        {
          "output_type": "stream",
          "name": "stdout",
          "text": [
            "Found 8667 files belonging to 23 classes.\n",
            "Using 7801 files for training.\n",
            "Found 8667 files belonging to 23 classes.\n",
            "Using 866 files for validation.\n"
          ]
        }
      ]
    },
    {
      "cell_type": "code",
      "source": [
        "data_augmentation = tf.keras.Sequential([\n",
        "  tf.keras.layers.RandomFlip(\"horizontal_and_vertical\"),\n",
        "  tf.keras.layers.RandomRotation(1),\n",
        "  tf.keras.layers.RandomContrast(0.2)\n",
        "])\n",
        "\n",
        "base_model = tf.keras.applications.MobileNet(input_shape=IMG_SHAPE, include_top=False, weights='imagenet')\n",
        "\n",
        "global_average_layer = tf.keras.layers.Flatten()\n",
        "\n",
        "prediction_layer = keras.layers.Dense(depth, activation='softmax')\n",
        "\n",
        "model = tf.keras.Sequential([\n",
        "  data_augmentation,\n",
        "  base_model,\n",
        "  global_average_layer,\n",
        "  prediction_layer\n",
        "])"
      ],
      "metadata": {
        "id": "N27XeoxUw6_w",
        "colab": {
          "base_uri": "https://localhost:8080/"
        },
        "outputId": "a55a5e0d-fe90-49f2-f1c6-867687d3eaa8"
      },
      "execution_count": 5,
      "outputs": [
        {
          "output_type": "stream",
          "name": "stdout",
          "text": [
            "Downloading data from https://storage.googleapis.com/tensorflow/keras-applications/mobilenet/mobilenet_1_0_224_tf_no_top.h5\n",
            "17227776/17225924 [==============================] - 0s 0us/step\n",
            "17235968/17225924 [==============================] - 0s 0us/step\n"
          ]
        }
      ]
    },
    {
      "cell_type": "code",
      "source": [
        "checkpoint = tf.keras.callbacks.ModelCheckpoint('final_model.h5', monitor=\"val_accuracy\", mode=\"max\", save_best_only=True, verbose=1)\n",
        "earlystop = tf.keras.callbacks.EarlyStopping(monitor=\"val_loss\", restore_best_weights=True, patience=8, verbose=1)\n",
        "\n",
        "callbacks = [checkpoint]"
      ],
      "metadata": {
        "id": "LNnBjd5XnJYy"
      },
      "execution_count": 6,
      "outputs": []
    },
    {
      "cell_type": "code",
      "source": [
        "model.compile(optimizer='adam',\n",
        "              loss=tf.keras.losses.SparseCategoricalCrossentropy(from_logits=False),\n",
        "              metrics=['accuracy'])"
      ],
      "metadata": {
        "id": "YQtuITFkxy7v"
      },
      "execution_count": 7,
      "outputs": []
    },
    {
      "cell_type": "code",
      "source": [
        "validation_steps = 20\n",
        "loss0, accuracy0 = model.evaluate(ds_validation, steps=validation_steps)"
      ],
      "metadata": {
        "id": "_vkkvC8b1xDG",
        "colab": {
          "base_uri": "https://localhost:8080/"
        },
        "outputId": "16cf8b06-b4cf-4c0a-f1b9-51b2464a548b"
      },
      "execution_count": 8,
      "outputs": [
        {
          "output_type": "stream",
          "name": "stdout",
          "text": [
            "20/20 [==============================] - 145s 5s/step - loss: 4.7314 - accuracy: 0.0359\n"
          ]
        }
      ]
    },
    {
      "cell_type": "code",
      "source": [
        "print(model.summary())"
      ],
      "metadata": {
        "id": "MCzFYQR-1Fzi",
        "colab": {
          "base_uri": "https://localhost:8080/"
        },
        "outputId": "2a822e55-8f01-4f84-c913-6103099e5824"
      },
      "execution_count": 9,
      "outputs": [
        {
          "output_type": "stream",
          "name": "stdout",
          "text": [
            "Model: \"sequential_1\"\n",
            "_________________________________________________________________\n",
            " Layer (type)                Output Shape              Param #   \n",
            "=================================================================\n",
            " sequential (Sequential)     (None, 224, 224, 3)       0         \n",
            "                                                                 \n",
            " mobilenet_1.00_224 (Functio  (None, 7, 7, 1024)       3228864   \n",
            " nal)                                                            \n",
            "                                                                 \n",
            " flatten (Flatten)           (None, 50176)             0         \n",
            "                                                                 \n",
            " dense (Dense)               (None, 23)                1154071   \n",
            "                                                                 \n",
            "=================================================================\n",
            "Total params: 4,382,935\n",
            "Trainable params: 4,361,047\n",
            "Non-trainable params: 21,888\n",
            "_________________________________________________________________\n",
            "None\n"
          ]
        }
      ]
    },
    {
      "cell_type": "code",
      "source": [
        "initial_epochs = 40\n",
        "history = model.fit(ds_train, epochs=initial_epochs, validation_data=ds_validation, callbacks=callbacks)\n",
        "acc = history.history['accuracy']\n",
        "print(acc)\n",
        "model.save(\"model.h5\")"
      ],
      "metadata": {
        "id": "uhE2i8-b01si",
        "colab": {
          "base_uri": "https://localhost:8080/"
        },
        "outputId": "01cad19c-1730-40eb-bb5a-4a73faed845b"
      },
      "execution_count": 10,
      "outputs": [
        {
          "output_type": "stream",
          "name": "stdout",
          "text": [
            "Epoch 1/40\n",
            "244/244 [==============================] - ETA: 0s - loss: 5.3843 - accuracy: 0.0969\n",
            "Epoch 1: val_accuracy improved from -inf to 0.11894, saving model to final_model.h5\n",
            "244/244 [==============================] - 1123s 4s/step - loss: 5.3843 - accuracy: 0.0969 - val_loss: 4.4836 - val_accuracy: 0.1189\n",
            "Epoch 2/40\n",
            "244/244 [==============================] - ETA: 0s - loss: 2.6498 - accuracy: 0.2170\n",
            "Epoch 2: val_accuracy improved from 0.11894 to 0.22517, saving model to final_model.h5\n",
            "244/244 [==============================] - 49s 199ms/step - loss: 2.6498 - accuracy: 0.2170 - val_loss: 3.1807 - val_accuracy: 0.2252\n",
            "Epoch 3/40\n",
            "244/244 [==============================] - ETA: 0s - loss: 2.2092 - accuracy: 0.3396\n",
            "Epoch 3: val_accuracy improved from 0.22517 to 0.28753, saving model to final_model.h5\n",
            "244/244 [==============================] - 50s 201ms/step - loss: 2.2092 - accuracy: 0.3396 - val_loss: 3.0814 - val_accuracy: 0.2875\n",
            "Epoch 4/40\n",
            "244/244 [==============================] - ETA: 0s - loss: 1.9101 - accuracy: 0.4208\n",
            "Epoch 4: val_accuracy did not improve from 0.28753\n",
            "244/244 [==============================] - 49s 200ms/step - loss: 1.9101 - accuracy: 0.4208 - val_loss: 3.8797 - val_accuracy: 0.2494\n",
            "Epoch 5/40\n",
            "244/244 [==============================] - ETA: 0s - loss: 1.6863 - accuracy: 0.4867\n",
            "Epoch 5: val_accuracy improved from 0.28753 to 0.36836, saving model to final_model.h5\n",
            "244/244 [==============================] - 50s 202ms/step - loss: 1.6863 - accuracy: 0.4867 - val_loss: 2.3180 - val_accuracy: 0.3684\n",
            "Epoch 6/40\n",
            "244/244 [==============================] - ETA: 0s - loss: 1.5103 - accuracy: 0.5366\n",
            "Epoch 6: val_accuracy did not improve from 0.36836\n",
            "244/244 [==============================] - 50s 201ms/step - loss: 1.5103 - accuracy: 0.5366 - val_loss: 3.1256 - val_accuracy: 0.3129\n",
            "Epoch 7/40\n",
            "244/244 [==============================] - ETA: 0s - loss: 1.3182 - accuracy: 0.5953\n",
            "Epoch 7: val_accuracy did not improve from 0.36836\n",
            "244/244 [==============================] - 50s 201ms/step - loss: 1.3182 - accuracy: 0.5953 - val_loss: 3.5517 - val_accuracy: 0.3430\n",
            "Epoch 8/40\n",
            "244/244 [==============================] - ETA: 0s - loss: 1.2015 - accuracy: 0.6295\n",
            "Epoch 8: val_accuracy improved from 0.36836 to 0.44111, saving model to final_model.h5\n",
            "244/244 [==============================] - 50s 202ms/step - loss: 1.2015 - accuracy: 0.6295 - val_loss: 2.1865 - val_accuracy: 0.4411\n",
            "Epoch 9/40\n",
            "244/244 [==============================] - ETA: 0s - loss: 1.1134 - accuracy: 0.6586\n",
            "Epoch 9: val_accuracy did not improve from 0.44111\n",
            "244/244 [==============================] - 50s 202ms/step - loss: 1.1134 - accuracy: 0.6586 - val_loss: 2.5760 - val_accuracy: 0.3845\n",
            "Epoch 10/40\n",
            "244/244 [==============================] - ETA: 0s - loss: 1.0342 - accuracy: 0.6868\n",
            "Epoch 10: val_accuracy improved from 0.44111 to 0.49654, saving model to final_model.h5\n",
            "244/244 [==============================] - 51s 206ms/step - loss: 1.0342 - accuracy: 0.6868 - val_loss: 1.9590 - val_accuracy: 0.4965\n",
            "Epoch 11/40\n",
            "244/244 [==============================] - ETA: 0s - loss: 0.9359 - accuracy: 0.7118\n",
            "Epoch 11: val_accuracy did not improve from 0.49654\n",
            "244/244 [==============================] - 50s 205ms/step - loss: 0.9359 - accuracy: 0.7118 - val_loss: 1.8323 - val_accuracy: 0.4711\n",
            "Epoch 12/40\n",
            "244/244 [==============================] - ETA: 0s - loss: 0.8602 - accuracy: 0.7403\n",
            "Epoch 12: val_accuracy improved from 0.49654 to 0.54273, saving model to final_model.h5\n",
            "244/244 [==============================] - 51s 207ms/step - loss: 0.8602 - accuracy: 0.7403 - val_loss: 1.8072 - val_accuracy: 0.5427\n",
            "Epoch 13/40\n",
            "244/244 [==============================] - ETA: 0s - loss: 0.7986 - accuracy: 0.7508\n",
            "Epoch 13: val_accuracy did not improve from 0.54273\n",
            "244/244 [==============================] - 50s 205ms/step - loss: 0.7986 - accuracy: 0.7508 - val_loss: 2.3844 - val_accuracy: 0.4630\n",
            "Epoch 14/40\n",
            "244/244 [==============================] - ETA: 0s - loss: 0.7488 - accuracy: 0.7666\n",
            "Epoch 14: val_accuracy improved from 0.54273 to 0.55658, saving model to final_model.h5\n",
            "244/244 [==============================] - 51s 206ms/step - loss: 0.7488 - accuracy: 0.7666 - val_loss: 1.6533 - val_accuracy: 0.5566\n",
            "Epoch 15/40\n",
            "244/244 [==============================] - ETA: 0s - loss: 0.6812 - accuracy: 0.7873\n",
            "Epoch 15: val_accuracy did not improve from 0.55658\n",
            "244/244 [==============================] - 50s 204ms/step - loss: 0.6812 - accuracy: 0.7873 - val_loss: 1.8416 - val_accuracy: 0.5520\n",
            "Epoch 16/40\n",
            "244/244 [==============================] - ETA: 0s - loss: 0.6090 - accuracy: 0.8139\n",
            "Epoch 16: val_accuracy improved from 0.55658 to 0.63164, saving model to final_model.h5\n",
            "244/244 [==============================] - 50s 205ms/step - loss: 0.6090 - accuracy: 0.8139 - val_loss: 1.3359 - val_accuracy: 0.6316\n",
            "Epoch 17/40\n",
            "244/244 [==============================] - ETA: 0s - loss: 0.5805 - accuracy: 0.8169\n",
            "Epoch 17: val_accuracy did not improve from 0.63164\n",
            "244/244 [==============================] - 50s 201ms/step - loss: 0.5805 - accuracy: 0.8169 - val_loss: 1.8793 - val_accuracy: 0.5508\n",
            "Epoch 18/40\n",
            "244/244 [==============================] - ETA: 0s - loss: 0.5989 - accuracy: 0.8162\n",
            "Epoch 18: val_accuracy did not improve from 0.63164\n",
            "244/244 [==============================] - 49s 198ms/step - loss: 0.5989 - accuracy: 0.8162 - val_loss: 2.2434 - val_accuracy: 0.5358\n",
            "Epoch 19/40\n",
            "244/244 [==============================] - ETA: 0s - loss: 0.5168 - accuracy: 0.8400\n",
            "Epoch 19: val_accuracy did not improve from 0.63164\n",
            "244/244 [==============================] - 50s 202ms/step - loss: 0.5168 - accuracy: 0.8400 - val_loss: 1.3630 - val_accuracy: 0.6270\n",
            "Epoch 20/40\n",
            "244/244 [==============================] - ETA: 0s - loss: 0.4955 - accuracy: 0.8423\n",
            "Epoch 20: val_accuracy did not improve from 0.63164\n",
            "244/244 [==============================] - 50s 204ms/step - loss: 0.4955 - accuracy: 0.8423 - val_loss: 1.6896 - val_accuracy: 0.5381\n",
            "Epoch 21/40\n",
            "244/244 [==============================] - ETA: 0s - loss: 0.4366 - accuracy: 0.8621\n",
            "Epoch 21: val_accuracy improved from 0.63164 to 0.64550, saving model to final_model.h5\n",
            "244/244 [==============================] - 51s 208ms/step - loss: 0.4366 - accuracy: 0.8621 - val_loss: 1.5504 - val_accuracy: 0.6455\n",
            "Epoch 22/40\n",
            "244/244 [==============================] - ETA: 0s - loss: 0.4066 - accuracy: 0.8704\n",
            "Epoch 22: val_accuracy did not improve from 0.64550\n",
            "244/244 [==============================] - 51s 206ms/step - loss: 0.4066 - accuracy: 0.8704 - val_loss: 2.0617 - val_accuracy: 0.5208\n",
            "Epoch 23/40\n",
            "244/244 [==============================] - ETA: 0s - loss: 0.3949 - accuracy: 0.8773\n",
            "Epoch 23: val_accuracy improved from 0.64550 to 0.69861, saving model to final_model.h5\n",
            "244/244 [==============================] - 52s 209ms/step - loss: 0.3949 - accuracy: 0.8773 - val_loss: 1.3373 - val_accuracy: 0.6986\n",
            "Epoch 24/40\n",
            "244/244 [==============================] - ETA: 0s - loss: 0.3889 - accuracy: 0.8769\n",
            "Epoch 24: val_accuracy did not improve from 0.69861\n",
            "244/244 [==============================] - 51s 208ms/step - loss: 0.3889 - accuracy: 0.8769 - val_loss: 1.6150 - val_accuracy: 0.6570\n",
            "Epoch 25/40\n",
            "244/244 [==============================] - ETA: 0s - loss: 0.3422 - accuracy: 0.8914\n",
            "Epoch 25: val_accuracy did not improve from 0.69861\n",
            "244/244 [==============================] - 51s 209ms/step - loss: 0.3422 - accuracy: 0.8914 - val_loss: 1.9144 - val_accuracy: 0.5993\n",
            "Epoch 26/40\n",
            "244/244 [==============================] - ETA: 0s - loss: 0.3233 - accuracy: 0.8987\n",
            "Epoch 26: val_accuracy did not improve from 0.69861\n",
            "244/244 [==============================] - 51s 207ms/step - loss: 0.3233 - accuracy: 0.8987 - val_loss: 1.8649 - val_accuracy: 0.6293\n",
            "Epoch 27/40\n",
            "244/244 [==============================] - ETA: 0s - loss: 0.2902 - accuracy: 0.9094\n",
            "Epoch 27: val_accuracy did not improve from 0.69861\n",
            "244/244 [==============================] - 51s 207ms/step - loss: 0.2902 - accuracy: 0.9094 - val_loss: 1.5727 - val_accuracy: 0.6328\n",
            "Epoch 28/40\n",
            "244/244 [==============================] - ETA: 0s - loss: 0.3277 - accuracy: 0.8960\n",
            "Epoch 28: val_accuracy did not improve from 0.69861\n",
            "244/244 [==============================] - 51s 206ms/step - loss: 0.3277 - accuracy: 0.8960 - val_loss: 2.2536 - val_accuracy: 0.5785\n",
            "Epoch 29/40\n",
            "244/244 [==============================] - ETA: 0s - loss: 0.3044 - accuracy: 0.9014\n",
            "Epoch 29: val_accuracy did not improve from 0.69861\n",
            "244/244 [==============================] - 50s 203ms/step - loss: 0.3044 - accuracy: 0.9014 - val_loss: 1.6207 - val_accuracy: 0.6928\n",
            "Epoch 30/40\n",
            "244/244 [==============================] - ETA: 0s - loss: 0.2854 - accuracy: 0.9140\n",
            "Epoch 30: val_accuracy did not improve from 0.69861\n",
            "244/244 [==============================] - 50s 204ms/step - loss: 0.2854 - accuracy: 0.9140 - val_loss: 1.5558 - val_accuracy: 0.6790\n",
            "Epoch 31/40\n",
            "244/244 [==============================] - ETA: 0s - loss: 0.2306 - accuracy: 0.9246\n",
            "Epoch 31: val_accuracy did not improve from 0.69861\n",
            "244/244 [==============================] - 51s 208ms/step - loss: 0.2306 - accuracy: 0.9246 - val_loss: 1.4520 - val_accuracy: 0.6986\n",
            "Epoch 32/40\n",
            "244/244 [==============================] - ETA: 0s - loss: 0.2397 - accuracy: 0.9242\n",
            "Epoch 32: val_accuracy did not improve from 0.69861\n",
            "244/244 [==============================] - 51s 206ms/step - loss: 0.2397 - accuracy: 0.9242 - val_loss: 1.4853 - val_accuracy: 0.6824\n",
            "Epoch 33/40\n",
            "244/244 [==============================] - ETA: 0s - loss: 0.2574 - accuracy: 0.9210\n",
            "Epoch 33: val_accuracy did not improve from 0.69861\n",
            "244/244 [==============================] - 51s 206ms/step - loss: 0.2574 - accuracy: 0.9210 - val_loss: 1.4924 - val_accuracy: 0.6928\n",
            "Epoch 34/40\n",
            "244/244 [==============================] - ETA: 0s - loss: 0.2314 - accuracy: 0.9262\n",
            "Epoch 34: val_accuracy improved from 0.69861 to 0.75058, saving model to final_model.h5\n",
            "244/244 [==============================] - 51s 208ms/step - loss: 0.2314 - accuracy: 0.9262 - val_loss: 1.2827 - val_accuracy: 0.7506\n",
            "Epoch 35/40\n",
            "244/244 [==============================] - ETA: 0s - loss: 0.2094 - accuracy: 0.9355\n",
            "Epoch 35: val_accuracy did not improve from 0.75058\n",
            "244/244 [==============================] - 51s 207ms/step - loss: 0.2094 - accuracy: 0.9355 - val_loss: 1.4133 - val_accuracy: 0.7252\n",
            "Epoch 36/40\n",
            "244/244 [==============================] - ETA: 0s - loss: 0.2306 - accuracy: 0.9304\n",
            "Epoch 36: val_accuracy did not improve from 0.75058\n",
            "244/244 [==============================] - 51s 206ms/step - loss: 0.2306 - accuracy: 0.9304 - val_loss: 1.4015 - val_accuracy: 0.6848\n",
            "Epoch 37/40\n",
            "244/244 [==============================] - ETA: 0s - loss: 0.1741 - accuracy: 0.9449\n",
            "Epoch 37: val_accuracy did not improve from 0.75058\n",
            "244/244 [==============================] - 51s 207ms/step - loss: 0.1741 - accuracy: 0.9449 - val_loss: 2.1696 - val_accuracy: 0.6386\n",
            "Epoch 38/40\n",
            "244/244 [==============================] - ETA: 0s - loss: 0.1865 - accuracy: 0.9417\n",
            "Epoch 38: val_accuracy did not improve from 0.75058\n",
            "244/244 [==============================] - 51s 209ms/step - loss: 0.1865 - accuracy: 0.9417 - val_loss: 1.6539 - val_accuracy: 0.6928\n",
            "Epoch 39/40\n",
            "244/244 [==============================] - ETA: 0s - loss: 0.1766 - accuracy: 0.9418\n",
            "Epoch 39: val_accuracy improved from 0.75058 to 0.75404, saving model to final_model.h5\n",
            "244/244 [==============================] - 52s 210ms/step - loss: 0.1766 - accuracy: 0.9418 - val_loss: 1.2210 - val_accuracy: 0.7540\n",
            "Epoch 40/40\n",
            "244/244 [==============================] - ETA: 0s - loss: 0.1558 - accuracy: 0.9513\n",
            "Epoch 40: val_accuracy did not improve from 0.75404\n",
            "244/244 [==============================] - 51s 208ms/step - loss: 0.1558 - accuracy: 0.9513 - val_loss: 1.4120 - val_accuracy: 0.7206\n",
            "[0.09691065549850464, 0.21702346205711365, 0.33957186341285706, 0.4208434820175171, 0.48673248291015625, 0.5365978479385376, 0.5953083038330078, 0.6295346617698669, 0.6586335301399231, 0.6868350505828857, 0.71183180809021, 0.7402896881103516, 0.7508012056350708, 0.7665683627128601, 0.7873349785804749, 0.8138700127601624, 0.8169465661048889, 0.8161774277687073, 0.8400205373764038, 0.842327892780304, 0.8620689511299133, 0.8704012036323547, 0.8773234486579895, 0.8769388794898987, 0.8914241790771484, 0.8987309336662292, 0.9093706011772156, 0.8960389494895935, 0.901422917842865, 0.9139853715896606, 0.924625039100647, 0.9242404699325562, 0.9210357666015625, 0.9261633157730103, 0.9355210661888123, 0.9303935170173645, 0.944878876209259, 0.9416741728782654, 0.9418023228645325, 0.9512882828712463]\n"
          ]
        }
      ]
    },
    {
      "cell_type": "code",
      "source": [
        "print(history.history.keys())\n",
        "# summarize history for accuracy\n",
        "plt.plot(history.history['accuracy'])\n",
        "plt.plot(history.history['val_accuracy'])\n",
        "plt.title('model accuracy')\n",
        "plt.ylabel('accuracy')\n",
        "plt.xlabel('epoch')\n",
        "plt.legend(['train', 'test'], loc='upper left')\n",
        "plt.show()\n",
        "# summarize history for loss\n",
        "plt.plot(history.history['loss'])\n",
        "plt.plot(history.history['val_loss'])\n",
        "plt.title('model loss')\n",
        "plt.ylabel('loss')\n",
        "plt.xlabel('epoch')\n",
        "plt.legend(['train', 'test'], loc='upper left')\n",
        "plt.show()"
      ],
      "metadata": {
        "colab": {
          "base_uri": "https://localhost:8080/",
          "height": 590
        },
        "id": "tKpFAoiuZTFq",
        "outputId": "4fd92301-9c3a-4c90-fe59-9b4ce6cb4c2d"
      },
      "execution_count": 11,
      "outputs": [
        {
          "output_type": "stream",
          "name": "stdout",
          "text": [
            "dict_keys(['loss', 'accuracy', 'val_loss', 'val_accuracy'])\n"
          ]
        },
        {
          "output_type": "display_data",
          "data": {
            "text/plain": [
              "<Figure size 432x288 with 1 Axes>"
            ],
            "image/png": "[encoded data removed]"
          },
          "metadata": {
            "needs_background": "light"
          }
        },
        {
          "output_type": "display_data",
          "data": {
            "text/plain": [
              "<Figure size 432x288 with 1 Axes>"
            ],
            "image/png": "[encoded data removed]"
          },
          "metadata": {
            "needs_background": "light"
          }
        }
      ]
    },
    {
      "cell_type": "code",
      "source": [
        "model_dir=\"/content/final_model.h5\"\n",
        "cars_model=tf.keras.models.load_model(model_dir)\n",
        "converter = tf.lite.TFLiteConverter.from_keras_model(cars_model)\n",
        "converter.optimizations = [tf.lite.Optimize.DEFAULT]\n",
        "tflite_model = converter.convert()\n",
        "\n",
        "with open('new_cars_model.tflite', 'wb') as f:\n",
        "  f.write(tflite_model)"
      ],
      "metadata": {
        "id": "PoeMjhTosxdw"
      },
      "execution_count": null,
      "outputs": []
    },
    {
      "cell_type": "code",
      "source": [
        "model_dir=\"/content/model.h5\"\n",
        "cars_model=tf.keras.models.load_model(model_dir)\n",
        "converter = tf.lite.TFLiteConverter.from_keras_model(cars_model)\n",
        "converter.optimizations = [tf.lite.Optimize.DEFAULT]\n",
        "tflite_model = converter.convert()\n",
        "\n",
        "with open('cars_model.tflite', 'wb') as f:\n",
        "  f.write(tflite_model)"
      ],
      "metadata": {
        "id": "Ngx6NryGMf5i"
      },
      "execution_count": null,
      "outputs": []
    },
    {
      "cell_type": "code",
      "source": [
        "cars_model = tf.keras.models.load_model(\"/content/drive/MyDrive/Modelli/final_model.h5\")"
      ],
      "metadata": {
        "id": "zGQsvkmwanyJ"
      },
      "execution_count": null,
      "outputs": []
    },
    {
      "cell_type": "code",
      "source": [
        "classes = ds_train.class_names\n",
        "print(classes)\n",
        "element, label = ds_validation.as_numpy_iterator().next()"
      ],
      "metadata": {
        "id": "fkIpsVtrr8F5"
      },
      "execution_count": null,
      "outputs": []
    },
    {
      "cell_type": "code",
      "source": [
        "predictions = cars_model.predict(element)\n",
        "for i in range(32):\n",
        "  plt.figure()\n",
        "  fig = element[i]/255.0\n",
        "  plt.imshow(fig)\n",
        "  pred_class = classes[np.argmax(predictions[i])]\n",
        "  true_class = classes[label[i]]\n",
        "  if (pred_class == true_class):\n",
        "    print(pred_class+\" \"+str(np.max(predictions[i])*100)+\"%: OK\")\n",
        "  else:\n",
        "    print(pred_class+\" \"+str(np.max(predictions[i])*100)+\"%: NO, it's a \"+true_class)"
      ],
      "metadata": {
        "id": "P62vnHS5a7ci"
      },
      "execution_count": null,
      "outputs": []
    }
  ]
}