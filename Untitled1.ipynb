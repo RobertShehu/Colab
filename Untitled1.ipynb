{
  "nbformat": 4,
  "nbformat_minor": 0,
  "metadata": {
    "colab": {
      "name": "Untitled1.ipynb",
      "provenance": [],
      "collapsed_sections": [],
      "mount_file_id": "1S15xDVE2n8C0etovbkq0ynMILrbImWha",
      "authorship_tag": "ABX9TyMfQnZqzQHTo3t5WuPTqWQQ",
      "include_colab_link": true
    },
    "kernelspec": {
      "name": "python3",
      "display_name": "Python 3"
    },
    "language_info": {
      "name": "python"
    }
  },
  "cells": [
    {
      "cell_type": "markdown",
      "metadata": {
        "id": "view-in-github",
        "colab_type": "text"
      },
      "source": [
        "<a href=\"https://colab.research.google.com/github/RobertShehu/Colab/blob/main/Untitled1.ipynb\" target=\"_parent\"><img src=\"https://colab.research.google.com/assets/colab-badge.svg\" alt=\"Open In Colab\"/></a>"
      ]
    },
    {
      "cell_type": "code",
      "source": [
        "from google.colab import drive\n",
        "drive.mount('/content/drive')"
      ],
      "metadata": {
        "id": "KhLRZz4X3n6S"
      },
      "execution_count": null,
      "outputs": []
    },
    {
      "cell_type": "code",
      "source": [
        "import tensorflow as tf\n",
        "from tensorflow import keras\n",
        "import numpy as np\n",
        "import matplotlib.pyplot as plt\n",
        "import os\n",
        "from keras.preprocessing import image\n",
        "from keras.preprocessing.image import ImageDataGenerator"
      ],
      "metadata": {
        "id": "WwDtisZGro7T"
      },
      "execution_count": 3,
      "outputs": []
    },
    {
      "cell_type": "code",
      "source": [
        "IMG_SIZE = 160\n",
        "BATCH_SIZE = 32\n",
        "SHUFFLE_BUFFER_SIZE = 1000\n",
        "IMG_SHAPE = (IMG_SIZE, IMG_SIZE, 3)\n",
        "path = '/content/drive/MyDrive/'\n",
        "class_names = os.listdir(path+'Progetto')\n",
        "depth = len(class_names)"
      ],
      "metadata": {
        "id": "YLNAA0pRrp_I"
      },
      "execution_count": 4,
      "outputs": []
    },
    {
      "cell_type": "code",
      "source": [
        "ds_train = tf.keras.preprocessing.image_dataset_from_directory(\n",
        "    path+'Progetto',\n",
        "    labels='inferred',\n",
        "    label_mode=\"int\",\n",
        "    color_mode=\"rgb\",\n",
        "    batch_size=BATCH_SIZE,\n",
        "    image_size=(IMG_SIZE, IMG_SIZE),\n",
        "    shuffle=True,\n",
        "    seed=123,\n",
        "    validation_split=0.1,\n",
        "    subset='training'\n",
        ")\n",
        "\n",
        "ds_validation = tf.keras.preprocessing.image_dataset_from_directory(\n",
        "    path+'Progetto',\n",
        "    labels='inferred',\n",
        "    label_mode=\"int\",\n",
        "    color_mode=\"rgb\",\n",
        "    batch_size=BATCH_SIZE,\n",
        "    image_size=(IMG_SIZE, IMG_SIZE),\n",
        "    shuffle=True,\n",
        "    seed=123,\n",
        "    validation_split=0.1,\n",
        "    subset='validation'\n",
        ")\n",
        "\n",
        "def format_example(image, label):\n",
        "  image = tf.cast(image, tf.float32)\n",
        "  image = (image/127.5) - 1\n",
        "  image = tf.image.resize(image, (IMG_SIZE, IMG_SIZE))\n",
        "  return image, label"
      ],
      "metadata": {
        "id": "GCriSmz6ru_T"
      },
      "execution_count": null,
      "outputs": []
    },
    {
      "cell_type": "code",
      "source": [
        "data_augmentation = tf.keras.Sequential([\n",
        "  tf.keras.layers.RandomFlip(\"horizontal_and_vertical\"),\n",
        "  tf.keras.layers.RandomRotation(0.2)\n",
        "])\n",
        "\n",
        "base_model = tf.keras.applications.MobileNet(input_shape=IMG_SHAPE, include_top=False, weights='imagenet')\n",
        "\n",
        "global_average_layer = tf.keras.layers.Flatten()\n",
        "\n",
        "\n",
        "prediction_layer = keras.layers.Dense(depth, activation='softmax')\n",
        "\n",
        "model = tf.keras.Sequential([\n",
        "  data_augmentation,\n",
        "  base_model,\n",
        "  global_average_layer,\n",
        "  prediction_layer\n",
        "])"
      ],
      "metadata": {
        "id": "N27XeoxUw6_w"
      },
      "execution_count": null,
      "outputs": []
    },
    {
      "cell_type": "code",
      "source": [
        "model.compile(optimizer='adam',\n",
        "              loss=tf.keras.losses.SparseCategoricalCrossentropy(),\n",
        "              metrics=['accuracy'])"
      ],
      "metadata": {
        "id": "YQtuITFkxy7v"
      },
      "execution_count": 7,
      "outputs": []
    },
    {
      "cell_type": "code",
      "source": [
        "validation_steps = 20\n",
        "loss0, accuracy0 = model.evaluate(ds_validation, steps=validation_steps)"
      ],
      "metadata": {
        "id": "_vkkvC8b1xDG"
      },
      "execution_count": null,
      "outputs": []
    },
    {
      "cell_type": "code",
      "source": [
        "print(model.summary())"
      ],
      "metadata": {
        "id": "MCzFYQR-1Fzi"
      },
      "execution_count": null,
      "outputs": []
    },
    {
      "cell_type": "code",
      "source": [
        "initial_epochs = 30\n",
        "history = model.fit(ds_train, epochs=initial_epochs, validation_data=ds_validation)\n",
        "acc = history.history['accuracy']\n",
        "print(acc)\n",
        "model.save(\"final_model.h5\")"
      ],
      "metadata": {
        "id": "uhE2i8-b01si"
      },
      "execution_count": null,
      "outputs": []
    },
    {
      "cell_type": "code",
      "source": [
        "model.save('final_model')"
      ],
      "metadata": {
        "id": "PoeMjhTosxdw"
      },
      "execution_count": null,
      "outputs": []
    },
    {
      "cell_type": "code",
      "source": [
        "new_model = tf.keras.models.load_model('final_model.h5')\n",
        "image_batch, label_batch = ds_train.as_numpy_iterator().next()\n",
        "predictions = new_model.predict_on_batch(image_batch).flatten()\n",
        "print(predictions)\n",
        "\n",
        "for i in range(3):\n",
        "  plt.figure()\n",
        "  plt.imshow(image_batch[i])\n",
        "# plt.title(class_names[predictions[i]])\n",
        "  plt.title(label_batch[i])\n",
        "  plt.axis(\"off\")"
      ],
      "metadata": {
        "id": "fkIpsVtrr8F5"
      },
      "execution_count": null,
      "outputs": []
    }
  ]
}